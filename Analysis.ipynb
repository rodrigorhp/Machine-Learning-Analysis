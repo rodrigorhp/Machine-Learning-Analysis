{
  "nbformat": 4,
  "nbformat_minor": 0,
  "metadata": {
    "colab": {
      "provenance": [],
      "authorship_tag": "ABX9TyP9t7kbSZFjhID6caxEaZAx",
      "include_colab_link": true
    },
    "kernelspec": {
      "name": "python3",
      "display_name": "Python 3"
    },
    "language_info": {
      "name": "python"
    }
  },
  "cells": [
    {
      "cell_type": "markdown",
      "metadata": {
        "id": "view-in-github",
        "colab_type": "text"
      },
      "source": [
        "<a href=\"https://colab.research.google.com/github/rodrigorhp/Machine-Learning-Analysis/blob/main/Analysis.ipynb\" target=\"_parent\"><img src=\"https://colab.research.google.com/assets/colab-badge.svg\" alt=\"Open In Colab\"/></a>"
      ]
    },
    {
      "cell_type": "markdown",
      "source": [
        "# Importar librerías"
      ],
      "metadata": {
        "id": "vFeFfTb2jY_p"
      }
    },
    {
      "cell_type": "code",
      "execution_count": 1,
      "metadata": {
        "id": "3y5rZ6VCiWnw"
      },
      "outputs": [],
      "source": [
        "import pandas as pd\n",
        "import numpy as np \n",
        "from sklearn import metrics\n",
        "import matplotlib.pyplot as plt"
      ]
    },
    {
      "cell_type": "markdown",
      "source": [
        "# Dataset"
      ],
      "metadata": {
        "id": "YBc0MwQajcDr"
      }
    },
    {
      "cell_type": "code",
      "source": [
        "from sklearn import datasets\n",
        "iris = datasets.load_iris()\n",
        "df = pd.DataFrame(iris.data, columns = iris.feature_names)\n",
        "df['target'] = iris.target\n",
        "X = iris.data\n",
        "df.sample(4)"
      ],
      "metadata": {
        "colab": {
          "base_uri": "https://localhost:8080/",
          "height": 175
        },
        "id": "4yENM4l6ilMO",
        "outputId": "55352026-88cd-42e0-e64f-662891249c25"
      },
      "execution_count": 2,
      "outputs": [
        {
          "output_type": "execute_result",
          "data": {
            "text/plain": [
              "     sepal length (cm)  sepal width (cm)  petal length (cm)  petal width (cm)  \\\n",
              "22                 4.6               3.6                1.0               0.2   \n",
              "4                  5.0               3.6                1.4               0.2   \n",
              "143                6.8               3.2                5.9               2.3   \n",
              "37                 4.9               3.6                1.4               0.1   \n",
              "\n",
              "     target  \n",
              "22        0  \n",
              "4         0  \n",
              "143       2  \n",
              "37        0  "
            ],
            "text/html": [
              "\n",
              "  <div id=\"df-9fe61a06-5f08-4036-99a4-e647ff59fafa\">\n",
              "    <div class=\"colab-df-container\">\n",
              "      <div>\n",
              "<style scoped>\n",
              "    .dataframe tbody tr th:only-of-type {\n",
              "        vertical-align: middle;\n",
              "    }\n",
              "\n",
              "    .dataframe tbody tr th {\n",
              "        vertical-align: top;\n",
              "    }\n",
              "\n",
              "    .dataframe thead th {\n",
              "        text-align: right;\n",
              "    }\n",
              "</style>\n",
              "<table border=\"1\" class=\"dataframe\">\n",
              "  <thead>\n",
              "    <tr style=\"text-align: right;\">\n",
              "      <th></th>\n",
              "      <th>sepal length (cm)</th>\n",
              "      <th>sepal width (cm)</th>\n",
              "      <th>petal length (cm)</th>\n",
              "      <th>petal width (cm)</th>\n",
              "      <th>target</th>\n",
              "    </tr>\n",
              "  </thead>\n",
              "  <tbody>\n",
              "    <tr>\n",
              "      <th>22</th>\n",
              "      <td>4.6</td>\n",
              "      <td>3.6</td>\n",
              "      <td>1.0</td>\n",
              "      <td>0.2</td>\n",
              "      <td>0</td>\n",
              "    </tr>\n",
              "    <tr>\n",
              "      <th>4</th>\n",
              "      <td>5.0</td>\n",
              "      <td>3.6</td>\n",
              "      <td>1.4</td>\n",
              "      <td>0.2</td>\n",
              "      <td>0</td>\n",
              "    </tr>\n",
              "    <tr>\n",
              "      <th>143</th>\n",
              "      <td>6.8</td>\n",
              "      <td>3.2</td>\n",
              "      <td>5.9</td>\n",
              "      <td>2.3</td>\n",
              "      <td>2</td>\n",
              "    </tr>\n",
              "    <tr>\n",
              "      <th>37</th>\n",
              "      <td>4.9</td>\n",
              "      <td>3.6</td>\n",
              "      <td>1.4</td>\n",
              "      <td>0.1</td>\n",
              "      <td>0</td>\n",
              "    </tr>\n",
              "  </tbody>\n",
              "</table>\n",
              "</div>\n",
              "      <button class=\"colab-df-convert\" onclick=\"convertToInteractive('df-9fe61a06-5f08-4036-99a4-e647ff59fafa')\"\n",
              "              title=\"Convert this dataframe to an interactive table.\"\n",
              "              style=\"display:none;\">\n",
              "        \n",
              "  <svg xmlns=\"http://www.w3.org/2000/svg\" height=\"24px\"viewBox=\"0 0 24 24\"\n",
              "       width=\"24px\">\n",
              "    <path d=\"M0 0h24v24H0V0z\" fill=\"none\"/>\n",
              "    <path d=\"M18.56 5.44l.94 2.06.94-2.06 2.06-.94-2.06-.94-.94-2.06-.94 2.06-2.06.94zm-11 1L8.5 8.5l.94-2.06 2.06-.94-2.06-.94L8.5 2.5l-.94 2.06-2.06.94zm10 10l.94 2.06.94-2.06 2.06-.94-2.06-.94-.94-2.06-.94 2.06-2.06.94z\"/><path d=\"M17.41 7.96l-1.37-1.37c-.4-.4-.92-.59-1.43-.59-.52 0-1.04.2-1.43.59L10.3 9.45l-7.72 7.72c-.78.78-.78 2.05 0 2.83L4 21.41c.39.39.9.59 1.41.59.51 0 1.02-.2 1.41-.59l7.78-7.78 2.81-2.81c.8-.78.8-2.07 0-2.86zM5.41 20L4 18.59l7.72-7.72 1.47 1.35L5.41 20z\"/>\n",
              "  </svg>\n",
              "      </button>\n",
              "      \n",
              "  <style>\n",
              "    .colab-df-container {\n",
              "      display:flex;\n",
              "      flex-wrap:wrap;\n",
              "      gap: 12px;\n",
              "    }\n",
              "\n",
              "    .colab-df-convert {\n",
              "      background-color: #E8F0FE;\n",
              "      border: none;\n",
              "      border-radius: 50%;\n",
              "      cursor: pointer;\n",
              "      display: none;\n",
              "      fill: #1967D2;\n",
              "      height: 32px;\n",
              "      padding: 0 0 0 0;\n",
              "      width: 32px;\n",
              "    }\n",
              "\n",
              "    .colab-df-convert:hover {\n",
              "      background-color: #E2EBFA;\n",
              "      box-shadow: 0px 1px 2px rgba(60, 64, 67, 0.3), 0px 1px 3px 1px rgba(60, 64, 67, 0.15);\n",
              "      fill: #174EA6;\n",
              "    }\n",
              "\n",
              "    [theme=dark] .colab-df-convert {\n",
              "      background-color: #3B4455;\n",
              "      fill: #D2E3FC;\n",
              "    }\n",
              "\n",
              "    [theme=dark] .colab-df-convert:hover {\n",
              "      background-color: #434B5C;\n",
              "      box-shadow: 0px 1px 3px 1px rgba(0, 0, 0, 0.15);\n",
              "      filter: drop-shadow(0px 1px 2px rgba(0, 0, 0, 0.3));\n",
              "      fill: #FFFFFF;\n",
              "    }\n",
              "  </style>\n",
              "\n",
              "      <script>\n",
              "        const buttonEl =\n",
              "          document.querySelector('#df-9fe61a06-5f08-4036-99a4-e647ff59fafa button.colab-df-convert');\n",
              "        buttonEl.style.display =\n",
              "          google.colab.kernel.accessAllowed ? 'block' : 'none';\n",
              "\n",
              "        async function convertToInteractive(key) {\n",
              "          const element = document.querySelector('#df-9fe61a06-5f08-4036-99a4-e647ff59fafa');\n",
              "          const dataTable =\n",
              "            await google.colab.kernel.invokeFunction('convertToInteractive',\n",
              "                                                     [key], {});\n",
              "          if (!dataTable) return;\n",
              "\n",
              "          const docLinkHtml = 'Like what you see? Visit the ' +\n",
              "            '<a target=\"_blank\" href=https://colab.research.google.com/notebooks/data_table.ipynb>data table notebook</a>'\n",
              "            + ' to learn more about interactive tables.';\n",
              "          element.innerHTML = '';\n",
              "          dataTable['output_type'] = 'display_data';\n",
              "          await google.colab.output.renderOutput(dataTable, element);\n",
              "          const docLink = document.createElement('div');\n",
              "          docLink.innerHTML = docLinkHtml;\n",
              "          element.appendChild(docLink);\n",
              "        }\n",
              "      </script>\n",
              "    </div>\n",
              "  </div>\n",
              "  "
            ]
          },
          "metadata": {},
          "execution_count": 2
        }
      ]
    },
    {
      "cell_type": "code",
      "source": [
        "df.isna().sum()"
      ],
      "metadata": {
        "colab": {
          "base_uri": "https://localhost:8080/"
        },
        "id": "MzF8S2SpjoLu",
        "outputId": "48b19c6a-128e-4f10-de72-5459c8081b40"
      },
      "execution_count": 3,
      "outputs": [
        {
          "output_type": "execute_result",
          "data": {
            "text/plain": [
              "sepal length (cm)    0\n",
              "sepal width (cm)     0\n",
              "petal length (cm)    0\n",
              "petal width (cm)     0\n",
              "target               0\n",
              "dtype: int64"
            ]
          },
          "metadata": {},
          "execution_count": 3
        }
      ]
    },
    {
      "cell_type": "code",
      "source": [
        "df.shape"
      ],
      "metadata": {
        "colab": {
          "base_uri": "https://localhost:8080/"
        },
        "id": "69dMgtq4kgN9",
        "outputId": "f2129841-94b1-4995-c10b-dac85f341650"
      },
      "execution_count": 4,
      "outputs": [
        {
          "output_type": "execute_result",
          "data": {
            "text/plain": [
              "(150, 5)"
            ]
          },
          "metadata": {},
          "execution_count": 4
        }
      ]
    },
    {
      "cell_type": "code",
      "source": [
        "df['target'].unique()"
      ],
      "metadata": {
        "colab": {
          "base_uri": "https://localhost:8080/"
        },
        "id": "5_iOHBgOmLSl",
        "outputId": "0ebc044d-3faf-4992-ba5e-6ddc1ec68079"
      },
      "execution_count": 5,
      "outputs": [
        {
          "output_type": "execute_result",
          "data": {
            "text/plain": [
              "array([0, 1, 2])"
            ]
          },
          "metadata": {},
          "execution_count": 5
        }
      ]
    },
    {
      "cell_type": "markdown",
      "source": [
        "# Conjunto de (Train/Test/Validation)"
      ],
      "metadata": {
        "id": "3szNLbO7ji6P"
      }
    },
    {
      "cell_type": "markdown",
      "source": [
        "Se dividen los datos en sets de entramiento, validación y prueba con un 80%, 10% y 10% respectivamente de toda la base de datos, esto con el objetivo de tener la mayor cantidad de datos para entramiento, evitando underfitting, sin dejar muy pocos para la prueba y validación de rendimiento del modelo."
      ],
      "metadata": {
        "id": "sMH5AOPglmt0"
      }
    },
    {
      "cell_type": "code",
      "source": [
        "from sklearn.model_selection import train_test_split\n",
        "\n",
        "X = df.drop(['target'], axis = 1) \n",
        "y = df['target']   \n",
        "\n",
        "train_ratio = 0.80\n",
        "test_ratio = 0.10\n",
        "validation_ratio = 0.10\n",
        "\n",
        "X_train, X_test, y_train, y_test = train_test_split(X, y, test_size=test_ratio)\n",
        "\n",
        "X_train, X_valid, y_train, y_valid = train_test_split(X_train, y_train, test_size=validation_ratio/(train_ratio+test_ratio))\n",
        "\n",
        "print(\"X_train : \",X_train.shape)\n",
        "\n",
        "print(\"X_test : \",X_test.shape)\n",
        "\n",
        "print(\"X_valid : \",X_valid.shape)"
      ],
      "metadata": {
        "id": "zwKAXxtVjiek",
        "outputId": "3227a615-08cc-45bd-b807-082bdf5389d4",
        "colab": {
          "base_uri": "https://localhost:8080/"
        }
      },
      "execution_count": 6,
      "outputs": [
        {
          "output_type": "stream",
          "name": "stdout",
          "text": [
            "X_train :  (119, 4)\n",
            "X_test :  (15, 4)\n",
            "X_valid :  (16, 4)\n"
          ]
        }
      ]
    },
    {
      "cell_type": "markdown",
      "source": [
        "# Implementación del Modelo"
      ],
      "metadata": {
        "id": "llKhACbmmB7m"
      }
    },
    {
      "cell_type": "markdown",
      "source": [
        "El modelo a implementar fue un Decision Tree mediante la librería Scikit Learn.\n",
        "Primero se generó el modelo con los datos de entranamiento sin considerar alguna alteración para mejorar el rendiemiento del mismo. "
      ],
      "metadata": {
        "id": "-NZ5W6T8mgmx"
      }
    },
    {
      "cell_type": "code",
      "source": [
        "from sklearn.tree import DecisionTreeClassifier\n",
        "from sklearn import tree\n",
        "classifier = tree.DecisionTreeClassifier(criterion='gini') \n",
        "\n",
        "classifier = classifier.fit(X_train, y_train)"
      ],
      "metadata": {
        "id": "iE5WnR_HpRLj"
      },
      "execution_count": 7,
      "outputs": []
    },
    {
      "cell_type": "markdown",
      "source": [
        "# Grado de bias o sesgo y Ajuste del modelo"
      ],
      "metadata": {
        "id": "d1wU7Zrwpsth"
      }
    },
    {
      "cell_type": "markdown",
      "source": [
        "Para determinar el ajuste del modelo nos fijaremos en la accuracy del modelo, puesto que al probar el modelo entrenado con los datos de entranamiento si el resultado de la accuracy es bajo, caemos en underfitting; asimismo, si al probar el modelo con datos de prueba el accuracy es bajo con un alto accuracy en con los datos de entrenamiento, caemos en un overfitting. "
      ],
      "metadata": {
        "id": "UQ2IWJ7uq8IL"
      }
    },
    {
      "cell_type": "code",
      "source": [
        "# Prueba del modelo con los datos de entrenamiento: \n",
        "test_pred_train = classifier.predict(X_train)\n",
        "\n",
        "\n",
        "print(\"Accuracy:\" )\n",
        "\n",
        "metrics.accuracy_score(y_train, test_pred_train) "
      ],
      "metadata": {
        "id": "RmNG-sTlrd3p",
        "outputId": "12c8119d-8c45-4350-cb28-db1be980844a",
        "colab": {
          "base_uri": "https://localhost:8080/"
        }
      },
      "execution_count": 8,
      "outputs": [
        {
          "output_type": "stream",
          "name": "stdout",
          "text": [
            "Accuracy:\n"
          ]
        },
        {
          "output_type": "execute_result",
          "data": {
            "text/plain": [
              "1.0"
            ]
          },
          "metadata": {},
          "execution_count": 8
        }
      ]
    },
    {
      "cell_type": "markdown",
      "source": [
        "Tener un accuracy alto en esta instancia nos indica que no caimos en un underfitting; sin embargo, aun el modelo es susceptible a tener un overfitting. "
      ],
      "metadata": {
        "id": "khO3wQ_urhzc"
      }
    },
    {
      "cell_type": "code",
      "source": [
        "# Prueba del modelo con los datos de prueba: \n",
        "test_pred_valid = classifier.predict(X_valid) \n",
        "\n",
        "print(\"Accuracy: \" )\n",
        "\n",
        "metrics.accuracy_score(y_valid, test_pred_valid)"
      ],
      "metadata": {
        "id": "TCdY5hBKrwcB",
        "outputId": "a61402b2-9006-461e-ab14-765aba53b2c6",
        "colab": {
          "base_uri": "https://localhost:8080/"
        }
      },
      "execution_count": 9,
      "outputs": [
        {
          "output_type": "stream",
          "name": "stdout",
          "text": [
            "Accuracy: \n"
          ]
        },
        {
          "output_type": "execute_result",
          "data": {
            "text/plain": [
              "0.9375"
            ]
          },
          "metadata": {},
          "execution_count": 9
        }
      ]
    },
    {
      "cell_type": "markdown",
      "source": [
        "Una accuracy de 87.5% es un resultado favorable, lo que nos indica que el modelo actual no cae en underfitting u overfitting. "
      ],
      "metadata": {
        "id": "47dF-40sr4vN"
      }
    },
    {
      "cell_type": "code",
      "source": [
        "1-metrics.accuracy_score(y_valid, test_pred_valid)"
      ],
      "metadata": {
        "id": "sU2-lwR3tl3d",
        "outputId": "5e3257f7-0ffd-4e57-cbbf-82c8f6a26a5e",
        "colab": {
          "base_uri": "https://localhost:8080/"
        }
      },
      "execution_count": 10,
      "outputs": [
        {
          "output_type": "execute_result",
          "data": {
            "text/plain": [
              "0.0625"
            ]
          },
          "metadata": {},
          "execution_count": 10
        }
      ]
    },
    {
      "cell_type": "markdown",
      "source": [
        "Para medir el sesgo se puede observar el complemento de la accuracy que está relacionado con los valores no acertados del modelo. La accuracy se puede interpretar como la ausencia del bias; por lo tanto, el complemento nos indica el error que hubo, es decir, el bias que está afectando las predicciones del modleo. En este caso un bias de 0.125 es bajo. "
      ],
      "metadata": {
        "id": "BnYs_z8Oxao8"
      }
    },
    {
      "cell_type": "markdown",
      "source": [
        "# Grado de varianza"
      ],
      "metadata": {
        "id": "JkpfYRuHsBzi"
      }
    },
    {
      "cell_type": "markdown",
      "source": [
        "Para medir el grado de varianza se utilizan dos parámetros importantes del modelo: la profundidad del árbol de decisión y el tamaño de las muestras. "
      ],
      "metadata": {
        "id": "rme18zyZya4G"
      }
    },
    {
      "cell_type": "code",
      "source": [
        "from sklearn.model_selection import cross_val_score\n",
        "import numpy as np\n",
        "import matplotlib.pyplot as plt\n",
        "\n",
        "# function for fitting trees of various depths on the training data using cross-validation\n",
        "def run_cross_validation_on_trees(X, y, tree_depths, cv=5, scoring='accuracy'):\n",
        "    cv_scores_list = []\n",
        "    cv_scores_std = []\n",
        "    cv_scores_mean = []\n",
        "    accuracy_scores = []\n",
        "    for depth in tree_depths:\n",
        "        tree_model = DecisionTreeClassifier(max_depth=depth)\n",
        "        cv_scores = cross_val_score(tree_model, X, y, cv=cv, scoring=scoring)\n",
        "        cv_scores_list.append(cv_scores)\n",
        "        cv_scores_mean.append(cv_scores.mean())\n",
        "        cv_scores_std.append(cv_scores.std())\n",
        "        accuracy_scores.append(tree_model.fit(X, y).score(X, y))\n",
        "    cv_scores_mean = np.array(cv_scores_mean)\n",
        "    cv_scores_std = np.array(cv_scores_std)\n",
        "    accuracy_scores = np.array(accuracy_scores)\n",
        "    return cv_scores_mean, cv_scores_std, accuracy_scores\n",
        "  \n",
        "# function for plotting cross-validation results\n",
        "def plot_cross_validation_on_trees(depths, cv_scores_mean, cv_scores_std, accuracy_scores, title):\n",
        "    fig, ax = plt.subplots(1,1, figsize=(15,5))\n",
        "    ax.plot(depths, cv_scores_mean, '-o', label='mean cross-validation accuracy', alpha=0.9)\n",
        "    ax.fill_between(depths, cv_scores_mean-2*cv_scores_std, cv_scores_mean+2*cv_scores_std, alpha=0.2)\n",
        "    ylim = plt.ylim()\n",
        "    ax.plot(depths, accuracy_scores, '-*', label='train accuracy', alpha=0.9)\n",
        "    ax.set_title(title, fontsize=16)\n",
        "    ax.set_xlabel('Tree depth', fontsize=14)\n",
        "    ax.set_ylabel('Accuracy', fontsize=14)\n",
        "    ax.set_ylim(ylim)\n",
        "    ax.set_xticks(depths)\n",
        "    ax.legend()\n",
        "\n",
        "# fitting trees of depth 1 to 24\n",
        "sm_tree_depths = range(1,25)\n",
        "sm_cv_scores_mean, sm_cv_scores_std, sm_accuracy_scores = run_cross_validation_on_trees(X_train, y_train, sm_tree_depths)\n",
        "\n",
        "# plotting accuracy\n",
        "plot_cross_validation_on_trees(sm_tree_depths, sm_cv_scores_mean, sm_cv_scores_std, sm_accuracy_scores, \n",
        "                               'Accuracy per decision tree depth on training data')"
      ],
      "metadata": {
        "colab": {
          "base_uri": "https://localhost:8080/",
          "height": 356
        },
        "id": "t90lQWrkmlLL",
        "outputId": "d5cf7923-6b31-4b07-a07e-bee4ca9f11b4"
      },
      "execution_count": 11,
      "outputs": [
        {
          "output_type": "display_data",
          "data": {
            "text/plain": [
              "<Figure size 1080x360 with 1 Axes>"
            ],
            "image/png": "[encoded data removed]"
          },
          "metadata": {
            "needs_background": "light"
          }
        }
      ]
    },
    {
      "cell_type": "markdown",
      "source": [
        " La gráfica nos indica el rendimeinto del decision tree con muchas profunidades, esto nos ayuda a decidir la profundidad del modelo para alzanzar un resultado óptimo sin desperdiciar costo computacional. Como se puede observar, después de una proffundiad de 4 el modelo no tiene mucha variablidad en cuanto su rendimiento tanto para los datos de entrenamiento como los de prueba. "
      ],
      "metadata": {
        "id": "fZErX8-En6VY"
      }
    },
    {
      "cell_type": "code",
      "source": [
        "# evaluate decision tree performance on train and test sets with different tree depths\n",
        "from sklearn.model_selection import train_test_split\n",
        "from sklearn.metrics import accuracy_score\n",
        "from sklearn.tree import DecisionTreeClassifier\n",
        "from matplotlib import pyplot\n",
        "\n",
        "sizes = [0.2, 0.33, 0.5]\n",
        "\n",
        "\n",
        "# define lists to collect scores\n",
        "train_scores, test_scores = list(), list()\n",
        "# define the tree depths to evaluate\n",
        "values = [i for i in range(len(sizes))]\n",
        "# evaluate a decision tree for each depth\n",
        "for i in range(len(values)):\n",
        "\t# configure the model\n",
        "\n",
        "  X_train, X_test, y_train, y_test = train_test_split(X, y, test_size=sizes[i])\n",
        "\n",
        "  model = DecisionTreeClassifier(criterion = 'gini')\n",
        "\t# fit model on the training dataset\n",
        "  model.fit(X_train, y_train)\n",
        "\t# evaluate on the train dataset\n",
        "  train_yhat = model.predict(X_train)\n",
        "  train_acc = accuracy_score(y_train, train_yhat)\n",
        "\n",
        "  train_scores.append(train_acc)\n",
        "    # evaluate on the test dataset\n",
        "  test_yhat = model.predict(X_test)\n",
        "  test_acc = accuracy_score(y_test, test_yhat)\n",
        "  test_scores.append(test_acc)\n",
        "    # summarize progress\n",
        "  print('>%d, train: %.3f, test: %.3f' % (i, train_acc, test_acc))\n",
        "# plot of train and test scores vs tree depth\n",
        "pyplot.plot(sizes, train_scores, '-o', label='Train')\n",
        "pyplot.plot(sizes, test_scores, '-o', label='Test')\n",
        "pyplot.legend()\n",
        "pyplot.show()"
      ],
      "metadata": {
        "id": "bz5HYfG3An-M",
        "outputId": "a477b345-96a0-40d2-e727-f03761448526",
        "colab": {
          "base_uri": "https://localhost:8080/",
          "height": 320
        }
      },
      "execution_count": 12,
      "outputs": [
        {
          "output_type": "stream",
          "name": "stdout",
          "text": [
            ">0, train: 1.000, test: 0.967\n",
            ">1, train: 1.000, test: 0.940\n",
            ">2, train: 1.000, test: 0.920\n"
          ]
        },
        {
          "output_type": "display_data",
          "data": {
            "text/plain": [
              "<Figure size 432x288 with 1 Axes>"
            ],
            "image/png": "[encoded data removed]"
          },
          "metadata": {
            "needs_background": "light"
          }
        }
      ]
    },
    {
      "cell_type": "markdown",
      "source": [
        "La gráfica nos muestra el rendiemiento del modelo considerado diferentes tamaños de muestras. Vemos que el rendimiento del modelo al probar con el conjunto de prueba decrece a medida hacemos el conjunto de entramiento más pequeño. La variablidad de este suceso se explica por utilizar cada vez menos datos de entrenamiento para construir el modelo ya que esto perjudica directamente las predicciones del modelo. "
      ],
      "metadata": {
        "id": "C0m7p4cvzOfY"
      }
    },
    {
      "cell_type": "markdown",
      "source": [
        "# Implmentación del modelo final"
      ],
      "metadata": {
        "id": "ccSbH94C1XId"
      }
    },
    {
      "cell_type": "markdown",
      "source": [
        "Finalmente se implementa el modelo tomando en cosnsideración los parámetros para incrementar el rendimiento del modelo: \n",
        "\n",
        "- profundidad mayor o igual a 4\n",
        "- tamaño del conjunto de prueba 33% de los datos"
      ],
      "metadata": {
        "id": "3BNCCEEg2WNT"
      }
    },
    {
      "cell_type": "code",
      "source": [
        "from sklearn.model_selection import train_test_split\n",
        "\n",
        "X = df.drop(['target'], axis = 1) \n",
        "y = df['target']   \n",
        "\n",
        "train_ratio = 0.67\n",
        "test_ratio = 0.33\n",
        "\n",
        "X_train, X_test, y_train, y_test = train_test_split(X, y, test_size=test_ratio)\n",
        "\n",
        "print(\"X_train : \",X_train.shape)\n",
        "\n",
        "print(\"X_test : \",X_test.shape)"
      ],
      "metadata": {
        "id": "SGwDSgoj2kKw",
        "outputId": "d8cfe681-1eeb-4a57-c2b1-e27ad7b3e622",
        "colab": {
          "base_uri": "https://localhost:8080/"
        }
      },
      "execution_count": 13,
      "outputs": [
        {
          "output_type": "stream",
          "name": "stdout",
          "text": [
            "X_train :  (100, 4)\n",
            "X_test :  (50, 4)\n"
          ]
        }
      ]
    },
    {
      "cell_type": "code",
      "source": [
        "from sklearn.tree import DecisionTreeClassifier\n",
        "from sklearn.metrics import classification_report\n",
        "from sklearn import tree\n",
        "\n",
        "clf = DecisionTreeClassifier(max_depth = 4,random_state=0)\n",
        "clf.fit(X_train, y_train)\n",
        "y_pred=clf.predict(X_test)"
      ],
      "metadata": {
        "id": "s1ICkZ9Dmg2C"
      },
      "execution_count": 14,
      "outputs": []
    },
    {
      "cell_type": "code",
      "source": [
        "fig = plt.figure(figsize=(15,10))\n",
        "_ = tree.plot_tree(clf,   \n",
        "                   filled=True)"
      ],
      "metadata": {
        "colab": {
          "base_uri": "https://localhost:8080/",
          "height": 575
        },
        "id": "Eeyynnz1nYTr",
        "outputId": "11774542-aed2-4f23-8895-ffecc56f93cd"
      },
      "execution_count": 15,
      "outputs": [
        {
          "output_type": "display_data",
          "data": {
            "text/plain": [
              "<Figure size 1080x720 with 1 Axes>"
            ],
            "image/png": "[encoded data removed]"
          },
          "metadata": {
            "needs_background": "light"
          }
        }
      ]
    },
    {
      "cell_type": "markdown",
      "source": [
        "# Métricas de Rendimiento"
      ],
      "metadata": {
        "id": "iCdBUmP2oNTQ"
      }
    },
    {
      "cell_type": "markdown",
      "source": [
        "Se utilizaron métricas como accuracy, recall, f1-score y support para determinar el rendimiento del modelo. "
      ],
      "metadata": {
        "id": "fILZUUQSoWv_"
      }
    },
    {
      "cell_type": "code",
      "source": [
        "print(\"Accuracy:\",metrics.accuracy_score(y_test, y_pred))\n",
        "\n",
        "print(classification_report(y_test, y_pred))"
      ],
      "metadata": {
        "colab": {
          "base_uri": "https://localhost:8080/"
        },
        "id": "Kwqr6SLloS2K",
        "outputId": "a1528fcc-8310-4f4e-82a0-230db2093626"
      },
      "execution_count": 16,
      "outputs": [
        {
          "output_type": "stream",
          "name": "stdout",
          "text": [
            "Accuracy: 0.94\n",
            "              precision    recall  f1-score   support\n",
            "\n",
            "           0       1.00      1.00      1.00        13\n",
            "           1       0.89      0.94      0.92        18\n",
            "           2       0.94      0.89      0.92        19\n",
            "\n",
            "    accuracy                           0.94        50\n",
            "   macro avg       0.95      0.95      0.95        50\n",
            "weighted avg       0.94      0.94      0.94        50\n",
            "\n"
          ]
        }
      ]
    },
    {
      "cell_type": "code",
      "source": [
        "print(\"Accuracy:\",metrics.accuracy_score(y_test, y_pred))"
      ],
      "metadata": {
        "colab": {
          "base_uri": "https://localhost:8080/"
        },
        "id": "7yto6cJOnGYg",
        "outputId": "8cfe289f-dc75-4cbf-88f9-fb22ad017857"
      },
      "execution_count": 17,
      "outputs": [
        {
          "output_type": "stream",
          "name": "stdout",
          "text": [
            "Accuracy: 0.94\n"
          ]
        }
      ]
    },
    {
      "cell_type": "markdown",
      "source": [
        "El modelo cumple con estandares aceptables para ser un buen modelo. \n",
        "- Mantiene una accuracy de 94%\n",
        "- Recall del 100%\n",
        "- F1-Score del 100%\n",
        "\n",
        "Al considerar los nuevos parámetros óptimos del modelo se puede notar aumento del 0.025%. Esta mejora apesar de no ser realmente significativa se puede considerar como un aumento decente para modelos más complejos o inclusive uan diferencia favorable al utilizar el modelo para predecir grandes bases de datos. \n"
      ],
      "metadata": {
        "id": "qgBgJE-uoevl"
      }
    },
    {
      "cell_type": "code",
      "source": [
        "y_test=y_test.to_list()"
      ],
      "metadata": {
        "id": "ZLu4eJpUqw1U"
      },
      "execution_count": 18,
      "outputs": []
    },
    {
      "cell_type": "code",
      "source": [
        "for i in range(len(y_test)):\n",
        "  print('Predicción: ', y_pred[i], ' | Valor Esperado: ', y_test[i])"
      ],
      "metadata": {
        "id": "hYjoD4IGqZZs",
        "outputId": "e0eb271d-6528-4524-d71d-12801ac36e7e",
        "colab": {
          "base_uri": "https://localhost:8080/"
        }
      },
      "execution_count": 19,
      "outputs": [
        {
          "output_type": "stream",
          "name": "stdout",
          "text": [
            "Predicción:  1  | Valor Esperado:  1\n",
            "Predicción:  2  | Valor Esperado:  2\n",
            "Predicción:  2  | Valor Esperado:  2\n",
            "Predicción:  0  | Valor Esperado:  0\n",
            "Predicción:  2  | Valor Esperado:  2\n",
            "Predicción:  2  | Valor Esperado:  2\n",
            "Predicción:  2  | Valor Esperado:  2\n",
            "Predicción:  1  | Valor Esperado:  1\n",
            "Predicción:  1  | Valor Esperado:  1\n",
            "Predicción:  2  | Valor Esperado:  2\n",
            "Predicción:  2  | Valor Esperado:  2\n",
            "Predicción:  0  | Valor Esperado:  0\n",
            "Predicción:  1  | Valor Esperado:  1\n",
            "Predicción:  1  | Valor Esperado:  1\n",
            "Predicción:  0  | Valor Esperado:  0\n",
            "Predicción:  0  | Valor Esperado:  0\n",
            "Predicción:  1  | Valor Esperado:  1\n",
            "Predicción:  2  | Valor Esperado:  2\n",
            "Predicción:  2  | Valor Esperado:  2\n",
            "Predicción:  1  | Valor Esperado:  1\n",
            "Predicción:  1  | Valor Esperado:  1\n",
            "Predicción:  0  | Valor Esperado:  0\n",
            "Predicción:  2  | Valor Esperado:  2\n",
            "Predicción:  0  | Valor Esperado:  0\n",
            "Predicción:  2  | Valor Esperado:  2\n",
            "Predicción:  0  | Valor Esperado:  0\n",
            "Predicción:  0  | Valor Esperado:  0\n",
            "Predicción:  2  | Valor Esperado:  1\n",
            "Predicción:  2  | Valor Esperado:  2\n",
            "Predicción:  2  | Valor Esperado:  2\n",
            "Predicción:  1  | Valor Esperado:  1\n",
            "Predicción:  0  | Valor Esperado:  0\n",
            "Predicción:  2  | Valor Esperado:  2\n",
            "Predicción:  2  | Valor Esperado:  2\n",
            "Predicción:  2  | Valor Esperado:  2\n",
            "Predicción:  0  | Valor Esperado:  0\n",
            "Predicción:  2  | Valor Esperado:  2\n",
            "Predicción:  1  | Valor Esperado:  1\n",
            "Predicción:  1  | Valor Esperado:  1\n",
            "Predicción:  0  | Valor Esperado:  0\n",
            "Predicción:  1  | Valor Esperado:  1\n",
            "Predicción:  0  | Valor Esperado:  0\n",
            "Predicción:  1  | Valor Esperado:  1\n",
            "Predicción:  0  | Valor Esperado:  0\n",
            "Predicción:  1  | Valor Esperado:  1\n",
            "Predicción:  1  | Valor Esperado:  1\n",
            "Predicción:  1  | Valor Esperado:  1\n",
            "Predicción:  1  | Valor Esperado:  2\n",
            "Predicción:  1  | Valor Esperado:  1\n",
            "Predicción:  1  | Valor Esperado:  2\n"
          ]
        }
      ]
    }
  ]
}